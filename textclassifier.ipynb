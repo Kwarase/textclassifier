{
  "nbformat": 4,
  "nbformat_minor": 0,
  "metadata": {
    "colab": {
      "provenance": []
    },
    "kernelspec": {
      "name": "python3",
      "display_name": "Python 3"
    },
    "language_info": {
      "name": "python"
    }
  },
  "cells": [
    {
      "cell_type": "markdown",
      "source": [
        "Installing Textblob"
      ],
      "metadata": {
        "id": "NjsKHEV8cRmy"
      }
    },
    {
      "cell_type": "code",
      "source": [
        "!pip install -U textblob\n",
        "!python -m textblob.download_corpora"
      ],
      "metadata": {
        "id": "3-7SffkbkRiS"
      },
      "execution_count": null,
      "outputs": []
    },
    {
      "cell_type": "markdown",
      "source": [
        "Installing Streamlit & Ngrok"
      ],
      "metadata": {
        "id": "yEy6nHvvcTsV"
      }
    },
    {
      "cell_type": "code",
      "source": [
        "!pip install streamlit\n",
        "!pip install pyngrok"
      ],
      "metadata": {
        "id": "EYZGt0QZTgM2"
      },
      "execution_count": null,
      "outputs": []
    },
    {
      "cell_type": "markdown",
      "source": [
        "Data Training"
      ],
      "metadata": {
        "id": "l6_gsD4UcUnX"
      }
    },
    {
      "cell_type": "code",
      "source": [
        "train = [\n",
        "     ('You look hot', 'non-abusive'),\n",
        "     ('this is an amazing place!', 'non-abusive'),\n",
        "     ('I feel very good about these beers.', 'non-abusive'),\n",
        "     ('this is my best work.', 'non-abusive'),\n",
        "     (\"what an awesome view\", 'non-abusive'),\n",
        "     ('Fuck you', 'abusive'),\n",
        "     ('You are retarded', 'abusive'),\n",
        "     (\"Kill yourself\", 'abusive'),\n",
        "     ('Go to hell, son of a bitch!', 'abusive'),\n",
        "     ('You need to understand', 'non-abusive'),\n",
        "     ('Go fuck yourself', 'abusive'),\n",
        "     ('Nice meeting you', 'non-abusive')\n",
        "\n",
        "]\n",
        "test = [\n",
        "     ('the beer was good.', 'non-abusive'),\n",
        "     ('I gonna beat your ass', 'abusive'),\n",
        "     (\"I will kill you\", 'abusive'),\n",
        "     (\"I feel amazing!\", 'non-abusive'),\n",
        "     ('Gary is a friend of mine.', 'non-abusive'),\n",
        "     (\"I hope you get raped\", 'abusive')\n",
        "]"
      ],
      "metadata": {
        "id": "86YR4ZLxW2e7"
      },
      "execution_count": 29,
      "outputs": []
    },
    {
      "cell_type": "code",
      "source": [
        "cl = NaiveBayesClassifier(train)"
      ],
      "metadata": {
        "id": "qq6QIoiCW0ta"
      },
      "execution_count": 30,
      "outputs": []
    },
    {
      "cell_type": "code",
      "source": [
        "cl.accuracy(test)"
      ],
      "metadata": {
        "colab": {
          "base_uri": "https://localhost:8080/"
        },
        "id": "b-7i4hURr2eG",
        "outputId": "a90baf1a-5ed3-4e6d-904e-0e3be65bdd06"
      },
      "execution_count": 67,
      "outputs": [
        {
          "output_type": "execute_result",
          "data": {
            "text/plain": [
              "0.3333333333333333"
            ]
          },
          "metadata": {},
          "execution_count": 67
        }
      ]
    },
    {
      "cell_type": "code",
      "source": [
        "from textblob.classifiers import NaiveBayesClassifier\n",
        "with open('train.csv', 'r', encoding='latin-1') as f:\n",
        "  cl = NaiveBayesClassifier(f, format='csv')"
      ],
      "metadata": {
        "id": "kn4C-b36qnfP"
      },
      "execution_count": 27,
      "outputs": []
    },
    {
      "cell_type": "markdown",
      "source": [
        "Testing Model"
      ],
      "metadata": {
        "id": "mqZMTBOodkQi"
      }
    },
    {
      "cell_type": "code",
      "source": [
        "text = 'Go fuck yourself'\n",
        "cl.classify(text)"
      ],
      "metadata": {
        "colab": {
          "base_uri": "https://localhost:8080/",
          "height": 35
        },
        "id": "dCOPs833TB8s",
        "outputId": "fa9a6444-0f49-4ed1-dbc9-2bc7d5c4b710"
      },
      "execution_count": 68,
      "outputs": [
        {
          "output_type": "execute_result",
          "data": {
            "text/plain": [
              "'abusive'"
            ],
            "application/vnd.google.colaboratory.intrinsic+json": {
              "type": "string"
            }
          },
          "metadata": {},
          "execution_count": 68
        }
      ]
    },
    {
      "cell_type": "code",
      "source": [
        "with open('test.csv', 'r', encoding='latin-1') as f:\n",
        "  print(cl.accuracy(f, format='csv'))"
      ],
      "metadata": {
        "colab": {
          "base_uri": "https://localhost:8080/"
        },
        "outputId": "e91a2ceb-7630-4921-dbff-51b5723836c1",
        "id": "HyNUnLXbVu-D"
      },
      "execution_count": 32,
      "outputs": [
        {
          "output_type": "stream",
          "name": "stdout",
          "text": [
            "0.6219151036525172\n"
          ]
        }
      ]
    },
    {
      "cell_type": "markdown",
      "source": [
        "Informative Features of the Model"
      ],
      "metadata": {
        "id": "LThGIc9zcbq_"
      }
    },
    {
      "cell_type": "code",
      "source": [
        "cl.show_informative_features(10)"
      ],
      "metadata": {
        "colab": {
          "base_uri": "https://localhost:8080/"
        },
        "id": "yjivdP_aTBqU",
        "outputId": "16eb7a6f-f3c6-40f3-8591-494c7145945b"
      },
      "execution_count": 55,
      "outputs": [
        {
          "output_type": "stream",
          "name": "stdout",
          "text": [
            "Most Informative Features\n",
            "            contains(Go) = False          non-ab : abusiv =      1.6 : 1.0\n",
            "      contains(yourself) = False          non-ab : abusiv =      1.6 : 1.0\n",
            "            contains(an) = False          abusiv : non-ab =      1.3 : 1.0\n",
            "            contains(is) = False          abusiv : non-ab =      1.3 : 1.0\n",
            "          contains(this) = False          abusiv : non-ab =      1.3 : 1.0\n",
            "            contains(to) = True           abusiv : non-ab =      1.3 : 1.0\n",
            "           contains(you) = True           abusiv : non-ab =      1.3 : 1.0\n",
            "          contains(Fuck) = False          non-ab : abusiv =      1.2 : 1.0\n",
            "          contains(Kill) = False          non-ab : abusiv =      1.2 : 1.0\n",
            "           contains(You) = True           non-ab : abusiv =      1.2 : 1.0\n"
          ]
        }
      ]
    },
    {
      "cell_type": "markdown",
      "source": [],
      "metadata": {
        "id": "bTvYwioDcdbJ"
      }
    },
    {
      "cell_type": "code",
      "source": [
        "%%writefile app.py\n",
        "\n",
        "train = [\n",
        "     ('You look hot', 'non-abusive'),\n",
        "     ('this is an amazing place!', 'non-abusive'),\n",
        "     ('I feel very good about these beers.', 'non-abusive'),\n",
        "     ('this is my best work.', 'non-abusive'),\n",
        "     (\"what an awesome view\", 'non-abusive'),\n",
        "     ('Fuck you', 'abusive'),\n",
        "     ('You are retarded', 'abusive'),\n",
        "     (\"Kill yourself\", 'abusive'),\n",
        "     ('Go to hell, son of a bitch!', 'abusive'),\n",
        "     ('You need to understand', 'non-abusive'),\n",
        "     ('Go fuck yourself', 'abusive'),\n",
        "     ('Nice meeting you', 'non-abusive')\n",
        "\n",
        "]\n",
        "test = [\n",
        "     ('the beer was good.', 'non-abusive'),\n",
        "     ('I gonna beat your ass', 'abusive'),\n",
        "     (\"I will kill you\", 'abusive'),\n",
        "     (\"I feel amazing!\", 'non-abusive'),\n",
        "     ('Gary is a friend of mine.', 'non-abusive'),\n",
        "     (\"I hope you get raped\", 'abusive')\n",
        "]\n",
        "\n",
        "\n",
        "\n",
        "import streamlit as st\n",
        "import textblob\n",
        "import csv\n",
        "from textblob.classifiers import NaiveBayesClassifier\n",
        "\n",
        "def main():\n",
        "    st.title(\"SafeGuardian\")\n",
        "    st.write('Abusive Language Text Classification')\n",
        "    user_text = st.text_input('Enter your text here')\n",
        "    cl = NaiveBayesClassifier(train)\n",
        "    result = \"\"\n",
        "    if st.button('Classify'):\n",
        "        result = cl.classify(user_text)\n",
        "        prob = cl.prob_classify(user_text)\n",
        "\n",
        "    st.write(f\"The predicted label is: {result}\")\n",
        "\n",
        "if __name__ == '__main__':\n",
        "    main()"
      ],
      "metadata": {
        "outputId": "9b178f60-5828-4747-97c4-85a67d3dea62",
        "colab": {
          "base_uri": "https://localhost:8080/"
        },
        "id": "PRHe24e-qpYs"
      },
      "execution_count": 59,
      "outputs": [
        {
          "output_type": "stream",
          "name": "stdout",
          "text": [
            "Overwriting app.py\n"
          ]
        }
      ]
    },
    {
      "cell_type": "markdown",
      "source": [],
      "metadata": {
        "id": "OuasdxoJce_B"
      }
    },
    {
      "cell_type": "code",
      "source": [
        "!streamlit run app.py &>/dev/null&\n"
      ],
      "metadata": {
        "id": "77cNu1wJsOAe"
      },
      "execution_count": 35,
      "outputs": []
    },
    {
      "cell_type": "markdown",
      "source": [],
      "metadata": {
        "id": "Xaq8BnuQcgfG"
      }
    },
    {
      "cell_type": "code",
      "source": [
        "!ngrok authtoken 2TKUrAuxnPHHgGfW5eyaxzKduiL_4ndZuRTsZukjZib1Syos2"
      ],
      "metadata": {
        "id": "nOi6fY1A0WBG",
        "outputId": "189ff6e0-cd18-44fb-ee3f-432a0aa76a96",
        "colab": {
          "base_uri": "https://localhost:8080/"
        }
      },
      "execution_count": 36,
      "outputs": [
        {
          "output_type": "stream",
          "name": "stdout",
          "text": [
            "Authtoken saved to configuration file: /root/.ngrok2/ngrok.yml\n"
          ]
        }
      ]
    },
    {
      "cell_type": "markdown",
      "source": [],
      "metadata": {
        "id": "5-hhOhSpchUi"
      }
    },
    {
      "cell_type": "code",
      "source": [
        "!wget https://drive.google.com/file/d/1zQXm4gWV_gOKCOxSCUYlZlqYVMHdPbL0/view?usp=sharing"
      ],
      "metadata": {
        "id": "u7TMyYif1B9p",
        "outputId": "07d83943-f1d2-4b60-c5df-d571cdc53cd4",
        "colab": {
          "base_uri": "https://localhost:8080/"
        }
      },
      "execution_count": 37,
      "outputs": [
        {
          "output_type": "stream",
          "name": "stdout",
          "text": [
            "--2023-08-01 18:34:39--  https://drive.google.com/file/d/1zQXm4gWV_gOKCOxSCUYlZlqYVMHdPbL0/view?usp=sharing\n",
            "Resolving drive.google.com (drive.google.com)... 173.194.212.102, 173.194.212.113, 173.194.212.101, ...\n",
            "Connecting to drive.google.com (drive.google.com)|173.194.212.102|:443... connected.\n",
            "HTTP request sent, awaiting response... 200 OK\n",
            "Length: unspecified [text/html]\n",
            "Saving to: ‘view?usp=sharing’\n",
            "\n",
            "view?usp=sharing        [ <=>                ]  78.53K  --.-KB/s    in 0.005s  \n",
            "\n",
            "2023-08-01 18:34:39 (16.1 MB/s) - ‘view?usp=sharing’ saved [80411]\n",
            "\n"
          ]
        }
      ]
    },
    {
      "cell_type": "markdown",
      "source": [],
      "metadata": {
        "id": "5i3mUH3Vciio"
      }
    },
    {
      "cell_type": "code",
      "source": [
        "!unzip ngrok-stable-linux-amd64.zip"
      ],
      "metadata": {
        "id": "zI_aoppO4BYa",
        "outputId": "33ac2ffe-130f-4336-ebd9-e829ad17a353",
        "colab": {
          "base_uri": "https://localhost:8080/"
        }
      },
      "execution_count": 39,
      "outputs": [
        {
          "output_type": "stream",
          "name": "stdout",
          "text": [
            "Archive:  ngrok-stable-linux-amd64.zip\n",
            "  inflating: ngrok                   \n"
          ]
        }
      ]
    },
    {
      "cell_type": "code",
      "source": [
        "get_ipython().system_raw('./ngrok http 8501 &')"
      ],
      "metadata": {
        "id": "Z6G0LziH4MWM"
      },
      "execution_count": 61,
      "outputs": []
    },
    {
      "cell_type": "markdown",
      "source": [],
      "metadata": {
        "id": "XcYm5yGvcj4o"
      }
    },
    {
      "cell_type": "code",
      "source": [
        "!curl -s http://localhost:4040/api/tunnels | python3 -c \\\n",
        "    \"import sys, json; print(json.load(sys.stdin)['tunnels'][0]['public_url'])\""
      ],
      "metadata": {
        "id": "ThoglgE-4mQ9",
        "outputId": "88338d3d-f954-4ac7-8056-d78b12aa00a8",
        "colab": {
          "base_uri": "https://localhost:8080/"
        }
      },
      "execution_count": 62,
      "outputs": [
        {
          "output_type": "stream",
          "name": "stdout",
          "text": [
            "http://9043-34-138-49-213.ngrok-free.app\n"
          ]
        }
      ]
    },
    {
      "cell_type": "markdown",
      "source": [],
      "metadata": {
        "id": "ebaSveTscl7k"
      }
    },
    {
      "cell_type": "code",
      "source": [
        "!streamlit run /content/app.py"
      ],
      "metadata": {
        "id": "O1CXYOWN5f8A",
        "outputId": "420ea6a8-c27f-4c31-abe7-30a4af8181a2",
        "colab": {
          "base_uri": "https://localhost:8080/"
        }
      },
      "execution_count": 63,
      "outputs": [
        {
          "output_type": "stream",
          "name": "stdout",
          "text": [
            "\n",
            "Collecting usage statistics. To deactivate, set browser.gatherUsageStats to False.\n",
            "\u001b[0m\n",
            "\u001b[0m\n",
            "\u001b[34m\u001b[1m  You can now view your Streamlit app in your browser.\u001b[0m\n",
            "\u001b[0m\n",
            "\u001b[34m  Network URL: \u001b[0m\u001b[1mhttp://172.28.0.12:8501\u001b[0m\n",
            "\u001b[34m  External URL: \u001b[0m\u001b[1mhttp://34.138.49.213:8501\u001b[0m\n",
            "\u001b[0m\n",
            "\u001b[34m  Stopping...\u001b[0m\n",
            "^C\n"
          ]
        }
      ]
    }
  ]
}